{
 "cells": [
  {
   "cell_type": "code",
   "execution_count": 1,
   "metadata": {},
   "outputs": [],
   "source": [
    "import pyautogui as gui\n",
    "import cv2\n",
    "import time\n",
    "import pytesseract\n",
    "import matplotlib.pyplot as plt\n",
    "import numpy as np\n",
    "import math"
   ]
  },
  {
   "cell_type": "code",
   "execution_count": 2,
   "metadata": {},
   "outputs": [],
   "source": [
    "class Airplane():\n",
    "    def __init__(self, flightnum = None, model = None, current_height = 0, target_height = 0, speed = 0, position = (0,0), heading = \"SPL\"):\n",
    "        self.flightnum = flightnum\n",
    "        self.info = \"\"\n",
    "        self.model = model\n",
    "        self.current_height = current_height\n",
    "        self.target_height = target_height\n",
    "        self.speed = speed\n",
    "        self.heading = heading\n",
    "        self.position = position\n",
    "        \n",
    "    def __repr__(self):\n",
    "        return \"<Airplane flightnum:%s position:%s>\" % (self.flightnum, self.position)\n",
    "        \n",
    "    def __str__(self):\n",
    "        return \"%s%s, screen position: %s, passing flight level %d to flight level %d, speed %d knots, %s.\" % (self.flightnum, self.model, str(self.position), self.current_height, self.target_height, self.speed, self.heading)"
   ]
  },
  {
   "cell_type": "code",
   "execution_count": 3,
   "metadata": {},
   "outputs": [],
   "source": [
    "def calibrate():\n",
    "    time.sleep(5)\n",
    "    calibrate_img = cv2.cvtColor(np.array(gui.screenshot()), cv2.COLOR_RGB2BGR)\n",
    "    gray = cv2.cvtColor(calibrate_img, cv2.COLOR_BGR2GRAY)\n",
    "#     print(gray[300, 360], gray[300, 361])\n",
    "    screen_idx = 0\n",
    "    top_idx = 0\n",
    "    bot_idx = 0\n",
    "    info_idx = 0\n",
    "    black_code = 0\n",
    "    \n",
    "    for i in range(gray.shape[1]):\n",
    "        if gray[300, i] == black_code:\n",
    "            screen_idx = i\n",
    "            print(i)\n",
    "            break\n",
    "        \n",
    "    for i in range(gray.shape[0]):\n",
    "        if gray[i, 800] == black_code:\n",
    "            top_idx = i\n",
    "            print(i)\n",
    "            break\n",
    "        \n",
    "    for i in reversed(range(gray.shape[0])):\n",
    "        if gray[i, 800] == black_code:\n",
    "            bot_idx = i\n",
    "            print(i)\n",
    "            break\n",
    "\n",
    "    \n",
    "    # plt.imshow(grayscreen, cmap='gray', vmin=0, vmax=255)\n",
    "    # plt.imsave(\"grayscreen.png\", grayscreen, cmap='gray')\n",
    "    grayscreen = gray[top_idx:bot_idx, screen_idx:]\n",
    "    threshold = 1400\n",
    "    for i in reversed(range(grayscreen.shape[0])):\n",
    "        count = np.count_nonzero(grayscreen[i] == black_code)\n",
    "        if count < threshold:\n",
    "            info_idx = i\n",
    "            print(i)\n",
    "            break;\n",
    "    \n",
    "    print(\"screen_idx=\", screen_idx)\n",
    "    print(\"top_idx=\", top_idx)\n",
    "    print(\"bot_idx=\", bot_idx)\n",
    "    print(\"info_idx=\", info_idx)\n",
    "    "
   ]
  },
  {
   "cell_type": "code",
   "execution_count": 4,
   "metadata": {},
   "outputs": [],
   "source": [
    "def ocr(img):\n",
    "    pytesseract.pytesseract.tesseract_cmd = r'C:\\Program Files\\Tesseract-OCR\\tesseract.exe'\n",
    "    text = pytesseract.image_to_string(img, lang='eng')\n",
    "    return text"
   ]
  },
  {
   "cell_type": "code",
   "execution_count": 12,
   "metadata": {},
   "outputs": [],
   "source": [
    "def qualify(x, y, top_idx=32, bot_idx=1029, screen_idx=360, info_idx=976):\n",
    "    if y >= top_idx and y <= bot_idx and x >= screen_idx:\n",
    "        return True\n",
    "    else:\n",
    "        return False"
   ]
  },
  {
   "cell_type": "code",
   "execution_count": 13,
   "metadata": {},
   "outputs": [],
   "source": [
    "## refactor\n",
    "\n",
    "def remove_dq_pts(pts, threshold):\n",
    "    elements = []\n",
    "    for (x, y) in pts:\n",
    "        if qualify(x, y):\n",
    "            for ele in elements:\n",
    "                if ((x-ele[0])**2 + (y-ele[1])**2) < threshold**2:\n",
    "                    break\n",
    "            else:\n",
    "                elements.append((x,y))\n",
    "    \n",
    "    return elements"
   ]
  },
  {
   "cell_type": "code",
   "execution_count": 14,
   "metadata": {},
   "outputs": [],
   "source": [
    "def find_plane_pts(template, threshold=0.8, method=cv2.TM_CCORR_NORMED):\n",
    "    # Apply template Matching\n",
    "    img = cv2.cvtColor(np.array(gui.screenshot()), cv2.COLOR_RGB2BGR)\n",
    "    resultimg = img.copy()\n",
    "    res = cv2.matchTemplate(resultimg, template, method)\n",
    "\n",
    "    location = np.where(res >= threshold)\n",
    "#     print(location)\n",
    "    pts = zip(*location[::-1])\n",
    "    plane_pts = remove_dq_pts(pts, min(template.shape[0], template.shape[1]))\n",
    "    \n",
    "    color = (0, 0, 255)\n",
    "    for pt in plane_pts:\n",
    "#         print(\"zz\", pt)\n",
    "        cv2.rectangle(resultimg, (pt[0], pt[1]), (pt[0]+15, pt[1]+15), color, 2)\n",
    "    \n",
    "    plt.imsave(\"result.png\", resultimg)\n",
    "    return plane_pts"
   ]
  },
  {
   "cell_type": "code",
   "execution_count": 15,
   "metadata": {},
   "outputs": [],
   "source": [
    "def get_plane_info(img, top_idx=32, bot_idx=1029, screen_idx=360, info_idx=976, line_top_dis=-18, line_bot_dis=+7, id=0):\n",
    "    screen = img[top_idx:bot_idx, screen_idx:, :]\n",
    "    line = screen[info_idx+line_top_dis:info_idx+line_bot_dis]\n",
    "    plt.imsave(str(id)+\"line.png\", line)\n",
    "    text = ocr(line).strip().split('.')[0]\n",
    "    return text"
   ]
  },
  {
   "cell_type": "code",
   "execution_count": 16,
   "metadata": {},
   "outputs": [],
   "source": [
    "def update_planes_info(plane_pts):\n",
    "    airplanes = []\n",
    "    for pt in plane_pts:\n",
    "        print(pt)\n",
    "        gui.click(x=pt[0], y=pt[1])\n",
    "        info_img = cv2.cvtColor(np.array(gui.screenshot()), cv2.COLOR_RGB2BGR)\n",
    "        info = get_plane_info(info_img, id=plane_pts.index(pt))\n",
    "        airplane = Airplane(position=pt)\n",
    "        airplane.info = info\n",
    "        print(info)        \n",
    "        try:\n",
    "            airplane.flightnum = info.split(',')[0].split()[0]\n",
    "            airplane.heading = int(info.split(',')[3].split(\"heading\")[1])\n",
    "        except:\n",
    "            None\n",
    "        airplanes.append(airplane)\n",
    "        \n",
    "    \n",
    "    print(airplanes)\n",
    "    return airplanes"
   ]
  },
  {
   "cell_type": "code",
   "execution_count": 17,
   "metadata": {},
   "outputs": [],
   "source": [
    "def calculate_heading(plane, target):\n",
    "    dx = target[0] - plane[0]\n",
    "    dy = target[1] - plane[1]\n",
    "\n",
    "    angle = math.atan2(dy, dx)\n",
    "    angle = int(angle * 180/math.pi)\n",
    "    if angle <= 0:\n",
    "        angle += 360\n",
    "    heading = angle+90\n",
    "    if heading > 360:\n",
    "        heading -= 360\n",
    "        \n",
    "    print(heading)\n",
    "    return heading"
   ]
  },
  {
   "cell_type": "code",
   "execution_count": 37,
   "metadata": {},
   "outputs": [],
   "source": [
    "def distance(plane, target):\n",
    "    dx = target[0] - plane[0]\n",
    "    dy = target[1] - plane[1]\n",
    "\n",
    "    dist = math.sqrt(dx**2 + dy**2)\n",
    "        \n",
    "    print(dist)\n",
    "    return dist"
   ]
  },
  {
   "cell_type": "code",
   "execution_count": 38,
   "metadata": {},
   "outputs": [
    {
     "name": "stdout",
     "output_type": "stream",
     "text": [
      "[(731, 318), (1165, 430), (1200, 579), (740, 714)]\n",
      "(731, 318)\n",
      "KLM913 (B772), passing FL62 descending to 2000 feet, speed 250 knots, heading 173\n",
      "(1165, 430)\n",
      "KLM11 (E190), maintaining FL70, speed 220 knots, heading 022\n",
      "(1200, 579)\n",
      "KLM1521 (A333), maintaining FL70, speed 220 knots, heading 120\n",
      "(740, 714)\n",
      "KLM93U (B772), maintaining 2000 feet, speed 220 knots, heading 246\n",
      "[<Airplane flightnum:KLM913 position:(731, 318)>, <Airplane flightnum:KLM11 position:(1165, 430)>, <Airplane flightnum:KLM1521 position:(1200, 579)>, <Airplane flightnum:KLM93U position:(740, 714)>]\n",
      "ControlPlane: KLM913None, screen position: (731, 318), passing flight level 0 to flight level 0, speed 0 knots, 173.\n",
      "177\n",
      "(732, 325)\n",
      "KLM913 (B772), passing FL61 descending to 2000 feet, speed 250 knots, turning to heading 177\n",
      "(1167, 424)\n",
      "KLM11 (E190), maintaining FL70, speed 220 knots, heading 022\n",
      "(1206, 582)\n",
      "KLM1521 (A333), maintaining FL70, speed 220 knots, heading 120\n",
      "(734, 716)\n",
      "KLM93U (B772), maintaining 2000 feet, speed 220 knots, heading 246\n",
      "[<Airplane flightnum:KLM913 position:(732, 325)>, <Airplane flightnum:KLM11 position:(1167, 424)>, <Airplane flightnum:KLM1521 position:(1206, 582)>, <Airplane flightnum:KLM93U position:(734, 716)>]\n",
      "!!!!!!!!!Update control plane!!!!!!!!\n",
      "ControlPlane: KLM913None, screen position: (732, 325), passing flight level 0 to flight level 0, speed 0 knots, 177.\n",
      "22.627416997969522\n",
      "[]\n",
      "!!!!!!!!!Control Plane lost!!!!!!!!\n"
     ]
    },
    {
     "ename": "IndexError",
     "evalue": "list index out of range",
     "output_type": "error",
     "traceback": [
      "\u001b[1;31m---------------------------------------------------------------------------\u001b[0m",
      "\u001b[1;31mIndexError\u001b[0m                                Traceback (most recent call last)",
      "\u001b[1;32m<ipython-input-38-6d7918a9d7ac>\u001b[0m in \u001b[0;36m<module>\u001b[1;34m\u001b[0m\n\u001b[0;32m     70\u001b[0m     \u001b[1;32melse\u001b[0m\u001b[1;33m:\u001b[0m\u001b[1;33m\u001b[0m\u001b[1;33m\u001b[0m\u001b[0m\n\u001b[0;32m     71\u001b[0m         \u001b[0mprint\u001b[0m\u001b[1;33m(\u001b[0m\u001b[1;34m\"!!!!!!!!!Control Plane lost!!!!!!!!\"\u001b[0m\u001b[1;33m)\u001b[0m\u001b[1;33m\u001b[0m\u001b[1;33m\u001b[0m\u001b[0m\n\u001b[1;32m---> 72\u001b[1;33m         \u001b[0mcontrol_plane\u001b[0m \u001b[1;33m=\u001b[0m \u001b[0mairplanes\u001b[0m\u001b[1;33m[\u001b[0m\u001b[1;36m0\u001b[0m\u001b[1;33m]\u001b[0m\u001b[1;33m\u001b[0m\u001b[1;33m\u001b[0m\u001b[0m\n\u001b[0m\u001b[0;32m     73\u001b[0m \u001b[1;33m\u001b[0m\u001b[0m\n\u001b[0;32m     74\u001b[0m \u001b[1;33m\u001b[0m\u001b[0m\n",
      "\u001b[1;31mIndexError\u001b[0m: list index out of range"
     ]
    }
   ],
   "source": [
    "## Main\n",
    "button_size = 73\n",
    "offset = 35\n",
    "button_de_alt = (15+offset, 464+offset)\n",
    "button_de_speed = (15+offset, 566+offset)\n",
    "button_de_head = (15+offset, 668+offset)\n",
    "button_in_alt = (279+offset, 464+offset)\n",
    "button_de_speed = (279+offset, 566+offset)\n",
    "button_de_head = (279+offset, 668+offset)\n",
    "button_ils = (15+offset, 768+offset)\n",
    "button_ok = (15+offset, 868+offset)\n",
    "target = (750, 700)\n",
    "\n",
    "time.sleep(1)\n",
    "gui.hotkey('alt', 'tab')\n",
    "time.sleep(2)\n",
    "gui.click(target)\n",
    "\n",
    "bonding_box = cv2.imread('marker.png')\n",
    "plane_pts = find_plane_pts(bonding_box)\n",
    "print(plane_pts)\n",
    "\n",
    "airplanes = update_planes_info(plane_pts)\n",
    "control_plane = airplanes[0]\n",
    "print(\"ControlPlane:\", control_plane)\n",
    "\n",
    "\n",
    "## control\n",
    "instruction_alt = 20\n",
    "interval = 0.25\n",
    "gui.click(control_plane.position)\n",
    "gui.press('space')\n",
    "time.sleep(interval)\n",
    "gui.press('a')\n",
    "time.sleep(interval)\n",
    "for s in str(instruction_alt):\n",
    "    gui.press(s)\n",
    "    time.sleep(interval)\n",
    "gui.click(button_ok)\n",
    "\n",
    "instruction_head = calculate_heading(control_plane.position, target)\n",
    "gui.click(control_plane.position)\n",
    "gui.press('space')\n",
    "time.sleep(interval)\n",
    "gui.press('h')\n",
    "time.sleep(interval)\n",
    "for s in str(instruction_head):\n",
    "    gui.press(s)\n",
    "    time.sleep(interval)\n",
    "gui.click(button_ok)\n",
    "\n",
    "\n",
    "\n",
    "round = 5\n",
    "for i in range(round):\n",
    "    plane_pts = find_plane_pts(bonding_box)\n",
    "    airplanes = update_planes_info(plane_pts)\n",
    "    \n",
    "    control = False\n",
    "    for plane in airplanes:\n",
    "        if plane.flightnum == control_plane.flightnum:\n",
    "            control_plane.position = plane.position\n",
    "            control_plane.heading = plane.heading\n",
    "            control = True\n",
    "            \n",
    "    \n",
    "    if control:\n",
    "        print(\"!!!!!!!!!Update control plane!!!!!!!!\")\n",
    "        print(\"ControlPlane:\", control_plane)\n",
    "    else:\n",
    "        print(\"!!!!!!!!!Control Plane lost!!!!!!!!\")\n",
    "        control_plane = airplanes[0]\n",
    "        \n",
    "    \n",
    "    ## Control\n",
    "    instruction_alt = 20\n",
    "    interval = 0.25\n",
    "    gui.click(control_plane.position)\n",
    "    gui.press('space')\n",
    "    time.sleep(interval)\n",
    "    gui.press('a')\n",
    "    time.sleep(interval)\n",
    "    for s in str(instruction_alt):\n",
    "        gui.press(s)\n",
    "        time.sleep(interval)\n",
    "    gui.click(button_ok)\n",
    "    \n",
    "    \n",
    "    if distance(plane.position, target) > 30:\n",
    "        instruction_head = calculate_heading(control_plane.position, target)\n",
    "        gui.click(control_plane.position)\n",
    "        gui.press('space')\n",
    "        time.sleep(0.25)\n",
    "        gui.press('h')\n",
    "        time.sleep(0.25)\n",
    "        for s in str(instruction_head):\n",
    "            gui.press(s)\n",
    "            time.sleep(0.25)\n",
    "        gui.click(button_ok)\n",
    "    else:\n",
    "        instruction_head = 80\n",
    "        gui.click(control_plane.position)\n",
    "        gui.press('space')\n",
    "        time.sleep(0.25)\n",
    "        gui.press('h')\n",
    "        time.sleep(0.25)\n",
    "        for s in str(instruction_head):\n",
    "            gui.press(s)\n",
    "            time.sleep(0.25)\n",
    "        gui.click(button_ok)\n",
    "        gui.click(button_ils)\n",
    "    \n",
    "    time.sleep(5)\n",
    "\n",
    "# gui.press('esc')\n",
    "# gui.hotkey('alt', 'tab')"
   ]
  },
  {
   "cell_type": "code",
   "execution_count": null,
   "metadata": {},
   "outputs": [],
   "source": [
    "airplanes"
   ]
  },
  {
   "cell_type": "code",
   "execution_count": null,
   "metadata": {},
   "outputs": [],
   "source": []
  },
  {
   "cell_type": "code",
   "execution_count": null,
   "metadata": {},
   "outputs": [],
   "source": []
  },
  {
   "cell_type": "code",
   "execution_count": null,
   "metadata": {},
   "outputs": [],
   "source": []
  },
  {
   "cell_type": "code",
   "execution_count": null,
   "metadata": {},
   "outputs": [],
   "source": []
  },
  {
   "cell_type": "code",
   "execution_count": null,
   "metadata": {},
   "outputs": [],
   "source": []
  },
  {
   "cell_type": "code",
   "execution_count": null,
   "metadata": {},
   "outputs": [],
   "source": [
    "button_size = 73\n",
    "button_de_alt = (15, 464) \n",
    "button_de_speed = (15, 464+102)\n",
    "button_de_head = (15, 464+204)\n",
    "button_in_alt = (279, 464)\n",
    "button_de_speed = (279, 464+102)\n",
    "button_de_head = (279, 464+204)\n",
    "ILS = (15, 464+300)\n",
    "\n",
    "click = cv2.imread('click.png')\n",
    "resultimg = click.copy()\n",
    "color = (0, 0, 255)\n",
    "cv2.rectangle(resultimg, ILS, (ILS[0]+button_size, ILS[1]+button_size), color, 5)\n",
    "plt.imshow(resultimg)\n",
    "plt.imsave(\"button_ils.png\", resultimg)"
   ]
  },
  {
   "cell_type": "code",
   "execution_count": null,
   "metadata": {},
   "outputs": [],
   "source": [
    "a = cv2.imread('lineex.png')\n",
    "plt.imshow(a)\n",
    "ocr(a)"
   ]
  },
  {
   "cell_type": "code",
   "execution_count": null,
   "metadata": {},
   "outputs": [],
   "source": [
    "calculate_heading((1461, 402), (700, 750))"
   ]
  },
  {
   "cell_type": "code",
   "execution_count": 34,
   "metadata": {},
   "outputs": [
    {
     "data": {
      "image/png": "[encoded data removed]",
      "text/plain": [
       "<Figure size 432x288 with 1 Axes>"
      ]
     },
     "metadata": {
      "needs_background": "light"
     },
     "output_type": "display_data"
    }
   ],
   "source": [
    "palse = cv2.imread(\"half.png\")\n",
    "runway = palse[750:800, 700:1200]\n",
    "plt.imshow(runway)\n",
    "target = (750, 700)\n",
    "size = 3\n",
    "radius = 30\n",
    "color = (0, 0, 255)\n",
    "cv2.rectangle(palse, (target[0]-size, target[1]-size), (target[0]+size, target[1]+size), color, 5)\n",
    "cv2.circle(palse, target, radius, color, 5)\n",
    "plt.imshow(palse)\n",
    "plt.imsave(\"target_with_c.png\", palse)"
   ]
  },
  {
   "cell_type": "code",
   "execution_count": null,
   "metadata": {},
   "outputs": [],
   "source": [
    "time.sleep(5)\n",
    "gui.screenshot(\"close.png\")"
   ]
  },
  {
   "cell_type": "code",
   "execution_count": null,
   "metadata": {},
   "outputs": [],
   "source": [
    "# screen_idx= 366\n",
    "# top_idx= 32\n",
    "# bot_idx= 1029\n",
    "# info_idx= 976\n",
    "# normal = cv2.imread(\"click.png\")\n",
    "# screen = normal[top_idx:bot_idx, screen_idx:, :]\n",
    "# linee = screen[info_idx-17:info_idx+7]\n",
    "# plt.imshow(linee)\n",
    "# plt.imsave(\"linee.png\", linee)\n",
    "# ocr(linee)"
   ]
  },
  {
   "cell_type": "code",
   "execution_count": null,
   "metadata": {},
   "outputs": [],
   "source": [
    "# infoimg = screen[info_idx-15:info_idx+5]\n",
    "# # plt.imshow(infoimg)\n",
    "# text = ocr(infoimg)\n",
    "# print(text)\n",
    "\n",
    "# info = text.split(',')\n",
    "# flightnum = info[0].split()[0]\n",
    "# model = info[0].split()[1]\n",
    "# current_height = int(info[1].split()[3])\n",
    "# target_height = int(info[1].split()[8])\n",
    "# speed = int(info[2].split()[1])\n",
    "# heading = info[3]\n",
    "# plane_find = Airplane(flightnum, model, current_height, target_height, speed, heading=heading)\n",
    "# print(plane_find)"
   ]
  }
 ],
 "metadata": {
  "kernelspec": {
   "display_name": "Python 3",
   "language": "python",
   "name": "python3"
  },
  "language_info": {
   "codemirror_mode": {
    "name": "ipython",
    "version": 3
   },
   "file_extension": ".py",
   "mimetype": "text/x-python",
   "name": "python",
   "nbconvert_exporter": "python",
   "pygments_lexer": "ipython3",
   "version": "3.8.5"
  }
 },
 "nbformat": 4,
 "nbformat_minor": 4
}
