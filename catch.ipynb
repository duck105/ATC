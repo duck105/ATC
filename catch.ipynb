{
 "cells": [
  {
   "cell_type": "code",
   "execution_count": 415,
   "metadata": {},
   "outputs": [],
   "source": [
    "import pyautogui as gui\n",
    "import cv2\n",
    "import time\n",
    "import pytesseract\n",
    "import matplotlib.pyplot as plt\n",
    "import numpy as np"
   ]
  },
  {
   "cell_type": "code",
   "execution_count": 436,
   "metadata": {},
   "outputs": [],
   "source": [
    "class Airplane():\n",
    "    def __init__(self, flightnum = None, model = None, current_height = 0, target_height = 0, speed = 0, position = (0,0), heading = \"SPL\"):\n",
    "        self.flightnum = flightnum\n",
    "        self.info = \"\"\n",
    "        self.model = model\n",
    "        self.current_height = current_height\n",
    "        self.target_height = target_height\n",
    "        self.speed = speed\n",
    "        self.heading = heading\n",
    "        self.position = position\n",
    "        \n",
    "    def __repr__(self):\n",
    "        return \"<Airplane flightnum:%s position:%s>\" % (self.flightnum, self.position)\n",
    "        \n",
    "    def __str__(self):\n",
    "        return \"%s%s, screen position: %s, passing flight level %d to flight level %d, speed %d knots, %s.\" % (self.flightnum, self.model, str(self.position), self.current_height, self.target_height, self.speed, self.heading)"
   ]
  },
  {
   "cell_type": "code",
   "execution_count": 417,
   "metadata": {},
   "outputs": [],
   "source": [
    "def ocr(img):\n",
    "    pytesseract.pytesseract.tesseract_cmd = r'C:\\Program Files\\Tesseract-OCR\\tesseract.exe'\n",
    "    text = pytesseract.image_to_string(img, lang='eng')\n",
    "    return text"
   ]
  },
  {
   "cell_type": "code",
   "execution_count": 418,
   "metadata": {},
   "outputs": [],
   "source": [
    "def get_plane_info(img):\n",
    "    top_idx = 29\n",
    "    bot_idx = 1029\n",
    "    screen_idx = 368\n",
    "    info_idx = 977\n",
    "    panel = img[top_idx:bot_idx, :screen_idx, :]\n",
    "    screen = img[top_idx:bot_idx, screen_idx:, :]\n",
    "    line = screen[info_idx-15:info_idx+5]\n",
    "    text = ocr(line).split('.')[0]\n",
    "    return text"
   ]
  },
  {
   "cell_type": "code",
   "execution_count": 419,
   "metadata": {},
   "outputs": [],
   "source": [
    "def remove_same(pts, threshold):\n",
    "    elements = []\n",
    "    for x,y in pts:\n",
    "        for ele in elements:\n",
    "            if ((x-ele[0])**2 + (y-ele[1])**2) < threshold**2:\n",
    "                break\n",
    "        else:\n",
    "            elements.append((x,y))\n",
    "    \n",
    "    return elements"
   ]
  },
  {
   "cell_type": "code",
   "execution_count": 420,
   "metadata": {},
   "outputs": [],
   "source": [
    "def find_plane_pts(img, template, threshold=0.9, method=cv2.TM_CCORR_NORMED):\n",
    "    # Apply template Matching\n",
    "    resultimg = img.copy()\n",
    "    res = cv2.matchTemplate(resultimg, template, method)\n",
    "\n",
    "    location = np.where(res >= threshold)\n",
    "#     print(location)\n",
    "    pts = zip(*location[::-1])\n",
    "    plane_pts = remove_same(pts, min(template.shape[0], template.shape[1]))\n",
    "    \n",
    "    color = (0, 0, 255)\n",
    "    for pt in plane_pts:\n",
    "        cv2.rectangle(resultimg, (pt[0], pt[1]), (pt[0]+17, pt[1]+17), color, 2)\n",
    "    \n",
    "    plt.imsave(\"result.png\", resultimg)\n",
    "    return plane_pts"
   ]
  },
  {
   "cell_type": "code",
   "execution_count": 437,
   "metadata": {},
   "outputs": [
    {
     "name": "stdout",
     "output_type": "stream",
     "text": [
      "[(1446, 355), (845, 401), (1213, 440), (1092, 503), (1035, 579), (772, 787), (898, 916)]\n"
     ]
    }
   ],
   "source": [
    "time.sleep(5)\n",
    "current_img = cv2.cvtColor(np.array(gui.screenshot()), cv2.COLOR_RGB2BGR)\n",
    "bonding_box = cv2.imread('2ktempl.png')\n",
    "\n",
    "plane_pts = find_plane_pts(current_img, bonding_box)\n",
    "print(plane_pts)"
   ]
  },
  {
   "cell_type": "code",
   "execution_count": 438,
   "metadata": {},
   "outputs": [
    {
     "name": "stdout",
     "output_type": "stream",
     "text": [
      "(1446, 355)\n",
      "DLH380H (A319), maintaining flight level 70, speed 250 knots, direct to SPL\n",
      "(845, 401)\n",
      "MNB1967 (A332), maintaining flight level 70, speed 250 knots, direct to SPL\n",
      "(1213, 440)\n",
      "EJU32E (A319), maintaining flight level 60, speed 250, direct to NYKER\n",
      "(1092, 503)\n",
      "CWC75W (B744) is taking off, cleared to flight level 60, speed 158\n",
      "(1035, 579)\n",
      "KLM85X (B789), maintaining flight level 70, speed 220 knots, direct to SPL\n",
      "(772, 787)\n",
      "KLM248G (B737), maintaining flight level 70, speed 250 knots, direct to SPL\n",
      "(898, 916)\n",
      "KLM36Y (B77W), maintaining flight level 70, speed 250 knots, direct to SPL\n",
      "[<Airplane flightnum:(1446, 355) position:(0, 0)>, <Airplane flightnum:(845, 401) position:(0, 0)>, <Airplane flightnum:(1213, 440) position:(0, 0)>, <Airplane flightnum:(1092, 503) position:(0, 0)>, <Airplane flightnum:(1035, 579) position:(0, 0)>, <Airplane flightnum:(772, 787) position:(0, 0)>, <Airplane flightnum:(898, 916) position:(0, 0)>]\n"
     ]
    }
   ],
   "source": [
    "airplanes = []\n",
    "for pt in plane_pts:\n",
    "    print(pt)\n",
    "    gui.click(x=pt[0], y=pt[1])\n",
    "    info_img = cv2.cvtColor(np.array(gui.screenshot()), cv2.COLOR_RGB2BGR)\n",
    "    info = get_plane_info(info_img)\n",
    "    airplane = Airplane(pt)\n",
    "    airplane.info = info\n",
    "    airplanes.append(airplane)\n",
    "    print(info)\n",
    "    \n",
    "    \n",
    "print(airplanes)"
   ]
  },
  {
   "cell_type": "code",
   "execution_count": 442,
   "metadata": {},
   "outputs": [
    {
     "name": "stdout",
     "output_type": "stream",
     "text": [
      "EJU32E (A319), maintaining flight level 60, speed 250, direct to NYKER\n"
     ]
    }
   ],
   "source": [
    "print(airplanes[2].info)"
   ]
  },
  {
   "cell_type": "code",
   "execution_count": null,
   "metadata": {},
   "outputs": [],
   "source": []
  },
  {
   "cell_type": "code",
   "execution_count": null,
   "metadata": {},
   "outputs": [],
   "source": []
  },
  {
   "cell_type": "code",
   "execution_count": 424,
   "metadata": {},
   "outputs": [],
   "source": [
    "# # Calibration\n",
    "# choose_img = cv2.imread(\"test.png\")\n",
    "# print(choose_img.shape)\n",
    "# gray = cv2.cvtColor(choose_img, cv2.COLOR_BGR2GRAY)\n",
    "# for i in range(gray.shape[1]):\n",
    "#     if gray[300, i] == 11:\n",
    "#         screen_panel_idx = i\n",
    "#         print(i)\n",
    "#         break\n",
    "        \n",
    "# for i in range(gray.shape[0]):\n",
    "#     if gray[i, 800] == 11:\n",
    "#         top_idx = i\n",
    "#         print(i)\n",
    "#         break\n",
    "        \n",
    "# for i in reversed(range(gray.shape[0])):\n",
    "#     if gray[i, 800] == 11:\n",
    "#         bot_idx = i\n",
    "#         print(i)\n",
    "#         break\n",
    "\n",
    "# panel = choose_img[top_idx:bot_idx, :screen_idx, :]\n",
    "# screen = choose_img[top_idx:bot_idx, screen_idx:, :]\n",
    "# print(panel.shape, screen.shape)\n",
    "# plt.imshow(panel)\n",
    "# plt.imshow(screen)\n",
    "# plt.imsave(\"screen.png\", screen)\n",
    "\n",
    "# grayscreen = cv2.cvtColor(screen, cv2.COLOR_BGR2GRAY)\n",
    "# # plt.imshow(grayscreen, cmap='gray', vmin=0, vmax=255)\n",
    "# # plt.imsave(\"grayscreen.png\", grayscreen, cmap='gray')\n",
    "# # blacknum = np.zeros(screen.shape[0])\n",
    "# threshold = 1400\n",
    "# for i in reversed(range(grayscreen.shape[0])):\n",
    "#     count = np.count_nonzero(grayscreen[i] == 11)\n",
    "# #     blacknum[i] = count\n",
    "#     if count < threshold:\n",
    "#         info_idx = i\n",
    "#         print(i)\n",
    "#         break;"
   ]
  },
  {
   "cell_type": "code",
   "execution_count": 425,
   "metadata": {},
   "outputs": [],
   "source": [
    "# infoimg = screen[info_idx-15:info_idx+5]\n",
    "# # plt.imshow(infoimg)\n",
    "# text = ocr(infoimg)\n",
    "# print(text)\n",
    "\n",
    "# info = text.split(',')\n",
    "# flightnum = info[0].split()[0]\n",
    "# model = info[0].split()[1]\n",
    "# current_height = int(info[1].split()[3])\n",
    "# target_height = int(info[1].split()[8])\n",
    "# speed = int(info[2].split()[1])\n",
    "# heading = info[3]\n",
    "# plane_find = Airplane(flightnum, model, current_height, target_height, speed, heading=heading)\n",
    "# print(plane_find)"
   ]
  },
  {
   "cell_type": "code",
   "execution_count": 426,
   "metadata": {},
   "outputs": [],
   "source": [
    "#     info = text.split(',')\n",
    "#     flightnum = info[0].split()[0]\n",
    "#     model = info[0].split()[1]\n",
    "#     current_height = int(info[1].split()[3])\n",
    "#     target_height = int(info[1].split()[8])\n",
    "#     speed = int(info[2].split()[1])\n",
    "#     heading = info[3]\n",
    "#     print(plane_find)"
   ]
  }
 ],
 "metadata": {
  "kernelspec": {
   "display_name": "Python 3",
   "language": "python",
   "name": "python3"
  },
  "language_info": {
   "codemirror_mode": {
    "name": "ipython",
    "version": 3
   },
   "file_extension": ".py",
   "mimetype": "text/x-python",
   "name": "python",
   "nbconvert_exporter": "python",
   "pygments_lexer": "ipython3",
   "version": "3.8.5"
  }
 },
 "nbformat": 4,
 "nbformat_minor": 4
}
