{
 "cells": [
  {
   "cell_type": "code",
   "execution_count": 524,
   "metadata": {},
   "outputs": [],
   "source": [
    "import cv2\n",
    "import numpy as np\n",
    "from matplotlib import pyplot as plt\n",
    "import pytesseract"
   ]
  },
  {
   "cell_type": "code",
   "execution_count": 525,
   "metadata": {},
   "outputs": [],
   "source": [
    "img = cv2.imread('2kscreen.png')\n",
    "template = cv2.imread('2ktempl.png')\n",
    "w = template.shape[1]\n",
    "h = template.shape[0]\n",
    "W = img.shape[1]\n",
    "H = img.shape[0]\n",
    "print(w, h, W, H)"
   ]
  },
  {
   "cell_type": "code",
   "execution_count": 526,
   "metadata": {},
   "outputs": [
    {
     "data": {
      "text/plain": [
       "(17, 17, 2560, 1390)"
      ]
     },
     "execution_count": 526,
     "metadata": {},
     "output_type": "execute_result"
    }
   ],
   "source": [
    "w, h, W, H"
   ]
  },
  {
   "cell_type": "code",
   "execution_count": 527,
   "metadata": {
    "scrolled": true
   },
   "outputs": [
    {
     "data": {
      "text/plain": [
       "<matplotlib.image.AxesImage at 0x1219f64f0>"
      ]
     },
     "execution_count": 527,
     "metadata": {},
     "output_type": "execute_result"
    },
    {
     "data": {
      "image/png": "[encoded data removed]",
      "text/plain": [
       "<Figure size 432x288 with 1 Axes>"
      ]
     },
     "metadata": {
      "needs_background": "light"
     },
     "output_type": "display_data"
    }
   ],
   "source": [
    "plt.imshow(template)"
   ]
  },
  {
   "cell_type": "code",
   "execution_count": 528,
   "metadata": {},
   "outputs": [],
   "source": [
    "method = cv2.TM_CCORR_NORMED\n",
    "color = (0, 0, 255)\n",
    "resultimg = img.copy()\n",
    "\n",
    "# Apply template Matching\n",
    "res = cv2.matchTemplate(resultimg, template, method)\n",
    "# min_val, max_val, min_loc, max_loc = cv2.minMaxLoc(res)\n",
    "\n",
    "# # If the method is TM_SQDIFF or TM_SQDIFF_NORMED, take minimum\n",
    "# if method in [cv2.TM_SQDIFF, cv2.TM_SQDIFF_NORMED]:\n",
    "#     top_left = min_loc\n",
    "# else:\n",
    "#     top_left = max_loc\n",
    "# bottom_right = (top_left[0] + w, top_left[1] + h)\n",
    "# print(top_left)\n",
    "\n",
    "# cv2.rectangle(resultimg, top_left, bottom_right, 255, 2)\n",
    "\n",
    "\n",
    "# plt.show()\n",
    "# plt.imsave(\"result.png\", resultimg)\n",
    "# plt.imsave(\"res.png\", res)"
   ]
  },
  {
   "cell_type": "code",
   "execution_count": 529,
   "metadata": {},
   "outputs": [],
   "source": [
    "def remove_same(pts, threshold):\n",
    "    elements = []\n",
    "    for x,y in pts:\n",
    "        for ele in elements:\n",
    "            if ((x-ele[0])**2 + (y-ele[1])**2) < threshold**2:\n",
    "                break\n",
    "        else:\n",
    "            elements.append((x,y))\n",
    "    \n",
    "    return elements"
   ]
  },
  {
   "cell_type": "code",
   "execution_count": 530,
   "metadata": {},
   "outputs": [
    {
     "name": "stdout",
     "output_type": "stream",
     "text": [
      "[(1023, 471), (2299, 538), (1464, 765), (1474, 862), (1222, 999), (906, 1327)]\n"
     ]
    }
   ],
   "source": [
    "threshold = 0.9\n",
    "loc = np.where(res >= threshold)\n",
    "textimgs = []\n",
    "\n",
    "pts = zip(*loc[::-1])\n",
    "planes = remove_same(pts, min(template.shape[0], template.shape[1]))\n",
    "print(planes)\n",
    "\n",
    "for pt in planes:\n",
    "    x1 = pt[0]-40\n",
    "    x2 = pt[0]+60\n",
    "    y1 = pt[1]-60\n",
    "    y2 = pt[1]\n",
    "    textimgs.append(img[y1:y2, x1:x2, :])\n",
    "    cv2.rectangle(resultimg, (pt[0]-45, pt[1]-50), (pt[0]+55, pt[1]), color, 2)\n",
    "    \n",
    "plt.imsave(\"result.png\", resultimg)"
   ]
  },
  {
   "cell_type": "code",
   "execution_count": 531,
   "metadata": {},
   "outputs": [
    {
     "name": "stdout",
     "output_type": "stream",
     "text": [
      "(60, 100, 3)\n",
      "272 NYKER\n",
      "\f",
      "\n"
     ]
    },
    {
     "data": {
      "image/png": "[encoded data removed]",
      "text/plain": [
       "<Figure size 432x288 with 1 Axes>"
      ]
     },
     "metadata": {
      "needs_background": "light"
     },
     "output_type": "display_data"
    }
   ],
   "source": [
    "textimg = textimgs[3]\n",
    "print(textimg.shape)\n",
    "plt.imshow(textimg)\n",
    "lh = 16 # lineheight\n",
    "ls = 42 # linestart\n",
    "lineimg = textimg[ls:ls+lh,:]\n",
    "plt.imshow(lineimg)\n",
    "lineimg_median = cv2.medianBlur(lineimg, 3)\n",
    "plt.imshow(lineimg_median)\n",
    "text = pytesseract.image_to_string(lineimg_median, lang='eng')\n",
    "\n",
    "print(text)\n",
    "## medium filter\n",
    "\n",
    "## first 17, 10\n",
    "## mid  16, 26\n",
    "## last 17 39"
   ]
  },
  {
   "cell_type": "code",
   "execution_count": 532,
   "metadata": {},
   "outputs": [],
   "source": [
    "# # All the 6 methods for comparison in a list\n",
    "# methods = ['cv2.TM_CCOEFF', 'cv2.TM_CCOEFF_NORMED', 'cv2.TM_CCORR',\n",
    "#             'cv2.TM_CCORR_NORMED', 'cv2.TM_SQDIFF', 'cv2.TM_SQDIFF_NORMED']\n",
    " \n",
    "# for meth in methods[:1]:\n",
    "#     img = img2.copy()\n",
    "#     method = eval(meth)\n",
    " \n",
    "#     # Apply template Matching\n",
    "#     res = cv2.matchTemplate(img,template,method)\n",
    "#     min_val, max_val, min_loc, max_loc = cv2.minMaxLoc(res)\n",
    "#     print(min_loc, max_loc)\n",
    " \n",
    "#     # If the method is TM_SQDIFF or TM_SQDIFF_NORMED, take minimum\n",
    "#     if method in [cv2.TM_SQDIFF, cv2.TM_SQDIFF_NORMED]:\n",
    "#         top_left = min_loc\n",
    "#     else:\n",
    "#         top_left = max_loc\n",
    "#     bottom_right = (top_left[0] + w, top_left[1] + h)\n",
    " \n",
    "#     cv2.rectangle(img,top_left, bottom_right, 255, 2)\n",
    " \n",
    "#     plt.subplot(121),plt.imshow(res,cmap = 'gray')\n",
    "#     plt.title('Matching Result'), plt.xticks([]), plt.yticks([])\n",
    "#     plt.subplot(122),plt.imshow(img)\n",
    "#     plt.title('Detected Point'), plt.xticks([]), plt.yticks([])\n",
    "#     plt.suptitle(meth)\n",
    " \n",
    "#     plt.show()\n",
    "#     plt.imsave(\"result\"+meth+\".png\", img)"
   ]
  },
  {
   "cell_type": "code",
   "execution_count": 613,
   "metadata": {},
   "outputs": [
    {
     "name": "stdout",
     "output_type": "stream",
     "text": [
      "(83, 1183, 3)\n",
      "(30, 1183, 3)\n",
      "KLM725 (E75L), maintaining flight level 70, speed 250 knots, direct to SPL. Distance to cursor d = 47 miles.\n",
      "\f",
      "\n"
     ]
    },
    {
     "data": {
      "image/png": "[encoded data removed]",
      "text/plain": [
       "<Figure size 432x288 with 1 Axes>"
      ]
     },
     "metadata": {
      "needs_background": "light"
     },
     "output_type": "display_data"
    }
   ],
   "source": [
    "image = cv2.imread('info2.png')\n",
    "print(image.shape)\n",
    "\n",
    "# wordimg = image[:, 3:54]\n",
    "# wordimg = image[:, 55:92]\n",
    "# wordimg = image[:, 95:130]\n",
    "# wordimg = image[:, 133: 165]\n",
    "# wordimg = image[:, 166:200]\n",
    "wordimg = image[30:60]\n",
    "print(wordimg.shape)\n",
    "plt.imshow(wordimg)\n",
    "text = pytesseract.image_to_string(wordimg, lang='eng')\n",
    "print(text)"
   ]
  }
 ],
 "metadata": {
  "kernelspec": {
   "display_name": "Python 3",
   "language": "python",
   "name": "python3"
  },
  "language_info": {
   "codemirror_mode": {
    "name": "ipython",
    "version": 3
   },
   "file_extension": ".py",
   "mimetype": "text/x-python",
   "name": "python",
   "nbconvert_exporter": "python",
   "pygments_lexer": "ipython3",
   "version": "3.8.5"
  }
 },
 "nbformat": 4,
 "nbformat_minor": 4
}
